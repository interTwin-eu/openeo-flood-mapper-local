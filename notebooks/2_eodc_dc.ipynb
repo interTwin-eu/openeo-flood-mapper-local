{
  "cells": [
    {
      "cell_type": "markdown",
      "metadata": {},
      "source": [
        "# openEO remote processing\n",
        "\n",
        "In this second exercise we use the [EODC](https://eodc.eu/) openEO service as our data source, and, more importantly, as our processing center. \n",
        "\n",
        "## Setting-up a Python session\n",
        "\n",
        "We again begin by loading openEO and some additional packages. \n"
      ],
      "id": "8d3561b6"
    },
    {
      "cell_type": "code",
      "metadata": {},
      "source": [
        "import numpy as np\n",
        "import xarray as xr\n",
        "from datetime import datetime\n",
        "import os\n",
        "\n",
        "from openeo_flood_mapper_local.view_flood_map import view_flood_map\n",
        "\n",
        "import openeo\n",
        "from openeo.processes import ProcessBuilder, array_element, add, multiply, sin, cos, mask, exp, median"
      ],
      "id": "26d17feb",
      "execution_count": null,
      "outputs": []
    },
    {
      "cell_type": "code",
      "metadata": {},
      "source": [
        "#| echo: false\n",
        "# to save intermediate results\n",
        "if not os.path.exists(\"data\"):\n",
        "    os.mkdir(\"data\")"
      ],
      "id": "d9e09475",
      "execution_count": null,
      "outputs": []
    },
    {
      "cell_type": "markdown",
      "metadata": {},
      "source": [
        "## Connect to the EODC openEO Backend\n",
        "\n",
        "Establish a connection to the EODC backend with `openeo.connect()`. This results in a connection object which is a critical aspect of collection discovery on the backend by openEO. \n"
      ],
      "id": "272c9997"
    },
    {
      "cell_type": "code",
      "metadata": {},
      "source": [
        "backend = \"https://openeo.eodc.eu\" \n",
        "connection = openeo.connect(backend)\n",
        "connection.authenticate_oidc()"
      ],
      "id": "31192d28",
      "execution_count": null,
      "outputs": []
    },
    {
      "cell_type": "markdown",
      "metadata": {},
      "source": [
        "## Load Collections from the EODC\n",
        "\n",
        "We can first have a look at the metadata available at the EODC for the required collections (SENTINEL1_SIG0_20M, SENTINEL1_HPAR, and SENTINEL1_MPLIA), like so:\n"
      ],
      "id": "dfdf1747"
    },
    {
      "cell_type": "code",
      "metadata": {
        "class": "output"
      },
      "source": [
        "connection.collection_metadata(\"SENTINEL1_SIG0_20M\")"
      ],
      "id": "827d2c47",
      "execution_count": null,
      "outputs": []
    },
    {
      "cell_type": "markdown",
      "metadata": {},
      "source": [
        "We can then load the collections. This is done by using the method `load_collection()` and by using the collection ids as defined above. During collection loading we also do some initial filtering on the spatial and temporal extent. More importantly, we have to filter SENTINEL1_MPLIA and SENTINEL1_HPAR for the descending orbit \"D080\" to be able to calculate the correct reference backscatter signatures. So, we use the following criteria for filtering.\n"
      ],
      "id": "4d1b70d4"
    },
    {
      "cell_type": "code",
      "metadata": {},
      "source": [
        "spatial_extent = {\"west\": 21.93, \"south\": 39.47, \"east\": 22.23, \"north\": 39.64}\n",
        "sensing_date = [\"2018-02-28T04:00:00Z\", \"2018-02-28T05:00:00Z\"]\n",
        "props = {\n",
        "   \"sat:orbit_state\": lambda x: openeo.processes.eq(x, \"descending\"),\n",
        "   \"sat:relative_orbit\": lambda x: openeo.processes.eq(x, 80)\n",
        "}"
      ],
      "id": "6f759bfb",
      "execution_count": null,
      "outputs": []
    },
    {
      "cell_type": "code",
      "metadata": {},
      "source": [
        "sig0_dc = connection.load_collection(\n",
        "    \"SENTINEL1_SIG0_20M\",\n",
        "    spatial_extent = spatial_extent,\n",
        "    temporal_extent = sensing_date,\n",
        "    bands=[\"VV\"]\n",
        "). \\\n",
        "    mean_time()"
      ],
      "id": "88b0bf4e",
      "execution_count": null,
      "outputs": []
    },
    {
      "cell_type": "code",
      "metadata": {
        "class": "output"
      },
      "source": [
        "connection.collection_metadata(\"SENTINEL1_HPAR\")"
      ],
      "id": "2e974b95",
      "execution_count": null,
      "outputs": []
    },
    {
      "cell_type": "code",
      "metadata": {},
      "source": [
        "hparam_dc = connection.load_collection(\n",
        "    \"SENTINEL1_HPAR\",\n",
        "    spatial_extent = spatial_extent,\n",
        "    temporal_extent = \"2019\",\n",
        "    properties=props\n",
        "). \\\n",
        "    mean_time()"
      ],
      "id": "659aad05",
      "execution_count": null,
      "outputs": []
    },
    {
      "cell_type": "code",
      "metadata": {
        "class": "output"
      },
      "source": [
        "connection.collection_metadata(\"SENTINEL1_MPLIA\")"
      ],
      "id": "782f87b1",
      "execution_count": null,
      "outputs": []
    },
    {
      "cell_type": "code",
      "metadata": {},
      "source": [
        "plia_dc = connection.load_collection(\n",
        "    \"SENTINEL1_MPLIA\",\n",
        "    spatial_extent = spatial_extent,\n",
        "    temporal_extent = [\"2020-01-01\", \"2020-12-31\"],\n",
        "    bands=[\"MPLIA\"],\n",
        "    properties=props\n",
        "). \\\n",
        "    mean_time()"
      ],
      "id": "3cf3a103",
      "execution_count": null,
      "outputs": []
    },
    {
      "cell_type": "markdown",
      "metadata": {},
      "source": [
        "## openEO Analysis at the EODC\n",
        "\n",
        "The remainder of the worklfow is similar to the local processing with some minor differences associated to naming of the objects.\n"
      ],
      "id": "9a0613c8"
    },
    {
      "cell_type": "code",
      "metadata": {},
      "source": [
        "def water_backscatter(plia_dc):\n",
        "    return (plia_dc.band('MPLIA') * -0.394181 + -4.142015). \\\n",
        "        add_dimension('bands', 'wbsc', 'bands')"
      ],
      "id": "96ac4e1c",
      "execution_count": null,
      "outputs": []
    },
    {
      "cell_type": "markdown",
      "metadata": {},
      "source": [
        "Here we apply again the `water_backscatter()` function to the incidence angle datacube, as follows:\n"
      ],
      "id": "784ca7a6"
    },
    {
      "cell_type": "code",
      "metadata": {},
      "source": [
        "water_bsc_dc = water_backscatter(plia_dc)\n",
        "water_bsc_dc"
      ],
      "id": "a269e9e1",
      "execution_count": null,
      "outputs": []
    },
    {
      "cell_type": "markdown",
      "metadata": {},
      "source": [
        "To initiate the processing we create a batch job with the `create_job()` method. This performs the data processing based on the JSON representation of the processing graph. Only by submitting this job to the EODC backend, we can actually perform the processing, like so:\n"
      ],
      "id": "22679a6e"
    },
    {
      "cell_type": "code",
      "metadata": {},
      "source": [
        "#| eval: false\n",
        "water_bsc_res = water_bsc_dc.save_result(format = \"NetCDF\")\n",
        "water_bsc_job = water_bsc_res.create_job(title = \"water_bsc_greece_flood_2018_as_NetCDF_py\")\n",
        "water_bsc_job.start_job()"
      ],
      "id": "947ba81b",
      "execution_count": null,
      "outputs": []
    },
    {
      "cell_type": "markdown",
      "metadata": {},
      "source": [
        "We can then download the results.\n"
      ],
      "id": "8902f18e"
    },
    {
      "cell_type": "code",
      "metadata": {},
      "source": [
        "#| eval: false\n",
        "water_bsc_job.download_result(\"data/watter_backscatter/example.nc\")"
      ],
      "id": "84e24f4c",
      "execution_count": null,
      "outputs": []
    },
    {
      "cell_type": "markdown",
      "metadata": {},
      "source": [
        "And view the retrieved data.\n"
      ],
      "id": "977929f1"
    },
    {
      "cell_type": "code",
      "metadata": {},
      "source": [
        "#| eval: false\n",
        "water_bsc_dc = xr.open_dataset(\"data/watter_backscatter/example.nc\")\n",
        "water_bsc_dc"
      ],
      "id": "94da6edc",
      "execution_count": null,
      "outputs": []
    },
    {
      "cell_type": "markdown",
      "metadata": {},
      "source": [
        "The following code is a duplicate of the local flood mapping processing pipeline, where we define the harmonic model.\n"
      ],
      "id": "2058337b"
    },
    {
      "cell_type": "code",
      "metadata": {},
      "source": [
        "def harmonic_expected_backscatter(data, dtime_str):\n",
        "    w = np.pi * 2 / 365\n",
        "    dt = datetime.strptime(dtime_str, \"%Y-%m-%d\")\n",
        "    t = dt.timetuple().tm_yday\n",
        "    wt = w * t\n",
        "\n",
        "    M0 = data.band('M0')\n",
        "    S1 = data.band('S1')\n",
        "    S2 = data.band('S2')\n",
        "    S3 = data.band('S3')\n",
        "    C1 = data.band('C1')\n",
        "    C2 = data.band('C2')\n",
        "    C3 = data.band('C3')\n",
        "    hm_c1 = (M0 + S1 * np.sin(wt)) + (C1 * np.cos(wt))\n",
        "    hm_c2 = ((hm_c1 + S2 * np.sin(2 * wt)) + C2 * np.cos(2 * wt))\n",
        "    hm_c3 = ((hm_c2 + S3 * np.sin(3 * wt)) + C3 * np.cos(3 * wt))\n",
        "    return hm_c3.add_dimension('bands', 'hbsc', 'bands')"
      ],
      "id": "5ea5563b",
      "execution_count": null,
      "outputs": []
    },
    {
      "cell_type": "markdown",
      "metadata": {},
      "source": [
        "Perform this function on the datacube for the time slice of the flooding event.\n"
      ],
      "id": "baeca37b"
    },
    {
      "cell_type": "code",
      "metadata": {},
      "source": [
        "land_bsc_dc = harmonic_expected_backscatter(hparam_dc, '2018-02-01')"
      ],
      "id": "f67c49ad",
      "execution_count": null,
      "outputs": []
    },
    {
      "cell_type": "markdown",
      "metadata": {},
      "source": [
        "In turn, we define the Bayesian classification model, as follows:\n"
      ],
      "id": "8522c2d2"
    },
    {
      "cell_type": "code",
      "metadata": {},
      "source": [
        "def bayesian_flood_decision(x: ProcessBuilder) -> ProcessBuilder:\n",
        "    nf_std = 2.754041\n",
        "    sig0 = x.array_element(index=0)\n",
        "    std = x.array_element(index=1)\n",
        "    wbsc = x.array_element(index=2)\n",
        "    hbsc = x.array_element(index=3)\n",
        "\n",
        "    f_prob = (1.0 / (std * np.sqrt(2 * np.pi))) * np.exp(-0.5 * \\\n",
        "        (((sig0 - wbsc) / nf_std) ** 2))\n",
        "    nf_prob = (1.0 / (nf_std * np.sqrt(2 * np.pi))) * np.exp(-0.5 * \\\n",
        "        (((sig0 - hbsc) / nf_std) ** 2))\n",
        "\n",
        "    evidence = (nf_prob * 0.5) + (f_prob * 0.5)\n",
        "    f_post_prob = (f_prob * 0.5) / evidence \n",
        "    nf_post_prob = (nf_prob * 0.5) / evidence \n",
        "\n",
        "    # flood if flood class has higher probability\n",
        "    return f_post_prob.gt(nf_post_prob)"
      ],
      "id": "243158ca",
      "execution_count": null,
      "outputs": []
    },
    {
      "cell_type": "markdown",
      "metadata": {},
      "source": [
        "And then execute this on a combined data cube, as follows:\n"
      ],
      "id": "9ff2985e"
    },
    {
      "cell_type": "code",
      "metadata": {},
      "source": [
        "std_dc = hparam_dc.band('STD').add_dimension('bands', 'std', 'bands')\n",
        "sig0_dc = sig0_dc.reduce_bands('mean').add_dimension('bands', 'sig0', 'bands')\n",
        "\n",
        "decision_in_dc = sig0_dc. \\\n",
        "    merge_cubes(std_dc). \\\n",
        "    merge_cubes(water_bsc_dc). \\\n",
        "    merge_cubes(land_bsc_dc) . \\\n",
        "    merge_cubes(plia_dc)\n",
        "\n",
        "flood_dc = decision_in_dc.reduce_bands(bayesian_flood_decision). \\\n",
        "    add_dimension('bands', 'dec', 'bands')\n",
        "\n",
        "flood_dc = flood_dc.merge_cubes(decision_in_dc)"
      ],
      "id": "6fa5f485",
      "execution_count": null,
      "outputs": []
    },
    {
      "cell_type": "markdown",
      "metadata": {},
      "source": [
        "Finally, we can again proceed and send this processing pipeline of to the EODC.\n"
      ],
      "id": "8d884000"
    },
    {
      "cell_type": "code",
      "metadata": {},
      "source": [
        "#| eval: false\n",
        "flood_res = flood_dc.save_result(format = \"NetCDF\")\n",
        "flood_job = flood_res.create_job(title = \"flood_greece_flood_2018_as_NetCDF_py\")\n",
        "flood_job.start_job()"
      ],
      "id": "656e6bba",
      "execution_count": null,
      "outputs": []
    },
    {
      "cell_type": "markdown",
      "metadata": {},
      "source": [
        "And retrieve the data, like so:\n"
      ],
      "id": "f38d5a5c"
    },
    {
      "cell_type": "code",
      "metadata": {},
      "source": [
        "#| eval: false\n",
        "flood_job.download_result(\"data/thessaly_floodmap.nc\")"
      ],
      "id": "0226eec1",
      "execution_count": null,
      "outputs": []
    },
    {
      "cell_type": "markdown",
      "metadata": {},
      "source": [
        "Now let's have a look at the processing job performed at EODC.\n"
      ],
      "id": "10957fe7"
    },
    {
      "cell_type": "code",
      "metadata": {
        "results": "hide"
      },
      "source": [
        "#| fig-cap: openEO floodmap - no pre-processing\n",
        "view_flood_map(xr.open_dataset(\"data/thessaly_floodmap.nc\").dec)"
      ],
      "id": "5913da27",
      "execution_count": null,
      "outputs": []
    },
    {
      "cell_type": "markdown",
      "metadata": {},
      "source": [
        "We can than also again extend this pipeline to include the postprocessing steps.\n",
        "\n",
        "1) Masking of Exceeding Incidence Angles\n"
      ],
      "id": "3cab6eef"
    },
    {
      "cell_type": "code",
      "metadata": {},
      "source": [
        "mask_ia = (flood_dc.band(\"MPLIA\") >= 27) * (flood_dc.band(\"MPLIA\") <= 48)\n",
        "flood_dc = flood_dc * mask_ia"
      ],
      "id": "15f80ba8",
      "execution_count": null,
      "outputs": []
    },
    {
      "cell_type": "code",
      "metadata": {},
      "source": [
        "#| eval: false\n",
        "#| code-fold: true\n",
        "flood_res = flood_dc.save_result(format = \"NetCDF\")\n",
        "flood_job = flood_res.create_job(title = \"flood_greece_flood_2018_as_NetCDF_py\")\n",
        "flood_job.start_job()"
      ],
      "id": "f935eba5",
      "execution_count": null,
      "outputs": []
    },
    {
      "cell_type": "code",
      "metadata": {},
      "source": [
        "#| eval: false\n",
        "#| code-fold: true\n",
        "flood_job.download_result(\"data/thessaly_floodmap_plia.nc\")"
      ],
      "id": "9ce55969",
      "execution_count": null,
      "outputs": []
    },
    {
      "cell_type": "code",
      "metadata": {
        "results": "hide"
      },
      "source": [
        "#| fig-cap: openEO floodmap - masking exceeding incidence angles\n",
        "#| echo: false\n",
        "view_flood_map(xr.open_dataset(\"data/thessaly_floodmap_plia.nc\").dec)"
      ],
      "id": "4c14cb3b",
      "execution_count": null,
      "outputs": []
    },
    {
      "cell_type": "markdown",
      "metadata": {},
      "source": [
        "2) Identification of Conflicting Distributions\n"
      ],
      "id": "4374b3b3"
    },
    {
      "cell_type": "code",
      "metadata": {},
      "source": [
        "water_bsc_threshold = flood_dc.band(\"wbsc\") + 0.5 * 2.754041\n",
        "mask_conflict = flood_dc.band(\"hbsc\") > water_bsc_threshold\n",
        "flood_dc = flood_dc * mask_conflict"
      ],
      "id": "56d80ee9",
      "execution_count": null,
      "outputs": []
    },
    {
      "cell_type": "code",
      "metadata": {},
      "source": [
        "#| eval: false\n",
        "#| code-fold: true\n",
        "flood_res = flood_dc.save_result(format = \"NetCDF\")\n",
        "flood_job = flood_res.create_job(title = \"flood_greece_flood_2018_as_NetCDF_py\")\n",
        "flood_job.start_job()"
      ],
      "id": "0da07cdf",
      "execution_count": null,
      "outputs": []
    },
    {
      "cell_type": "code",
      "metadata": {},
      "source": [
        "#| eval: false\n",
        "#| code-fold: true\n",
        "flood_job.download_result(\"data/thessaly_floodmap_plia_distr.nc\")"
      ],
      "id": "86c0c0ea",
      "execution_count": null,
      "outputs": []
    },
    {
      "cell_type": "code",
      "metadata": {
        "results": "hide"
      },
      "source": [
        "#| fig-cap: openEO floodmap - masking conflicting distributions + exceeding incidence angles\n",
        "#| echo: false\n",
        "view_flood_map(xr.open_dataset(\"data/thessaly_floodmap_plia_distr.nc\").dec)"
      ],
      "id": "c09c3777",
      "execution_count": null,
      "outputs": []
    },
    {
      "cell_type": "markdown",
      "metadata": {},
      "source": [
        "3) Removal of Measurement Outliers\n"
      ],
      "id": "7af408e3"
    },
    {
      "cell_type": "code",
      "metadata": {},
      "source": [
        "land_bsc_lower = flood_dc.band(\"hbsc\") - 3 * flood_dc.band(\"std\")\n",
        "land_bsc_upper = flood_dc.band(\"hbsc\") + 3 * flood_dc.band(\"std\")\n",
        "water_bsc_upper = flood_dc.band(\"wbsc\") + 3 * 2.754041\n",
        "\n",
        "mask_land_outliers = (flood_dc.band(\"sig0\") > land_bsc_lower) * (flood_dc.band(\"sig0\") < land_bsc_upper)\n",
        "mask_water_outliers = flood_dc.band(\"sig0\") < water_bsc_upper\n",
        "flood_dc = flood_dc * (mask_land_outliers | mask_water_outliers)"
      ],
      "id": "e5e6ba36",
      "execution_count": null,
      "outputs": []
    },
    {
      "cell_type": "code",
      "metadata": {},
      "source": [
        "#| eval: false\n",
        "#| code-fold: true\n",
        "flood_res = flood_dc.save_result(format = \"NetCDF\")\n",
        "flood_job = flood_res.create_job(title = \"flood_greece_flood_2018_as_NetCDF_py\")\n",
        "flood_job.start_job()"
      ],
      "id": "5ab880c7",
      "execution_count": null,
      "outputs": []
    },
    {
      "cell_type": "code",
      "metadata": {},
      "source": [
        "#| eval: false\n",
        "#| code-fold: true\n",
        "flood_job.download_result(\"data/thessaly_floodmap_plia_distr_out.nc\")"
      ],
      "id": "6cc1f71f",
      "execution_count": null,
      "outputs": []
    },
    {
      "cell_type": "code",
      "metadata": {
        "results": "hide"
      },
      "source": [
        "#| fig-cap: openEO floodmap - masking extreme outliers + conflicting distributions + exceeding incidence angles\n",
        "#| echo: false\n",
        "view_flood_map(xr.open_dataset(\"data/thessaly_floodmap_plia_distr_out.nc\").dec)"
      ],
      "id": "db0afd48",
      "execution_count": null,
      "outputs": []
    },
    {
      "cell_type": "markdown",
      "metadata": {},
      "source": [
        "4) Denial of High Uncertainty on Decision\n"
      ],
      "id": "631a8b07"
    },
    {
      "cell_type": "code",
      "metadata": {},
      "source": [
        "mask_uncertainty = flood_dc.band(\"dec\") > 0.8\n",
        "flood_dc = flood_dc * mask_uncertainty"
      ],
      "id": "e8d4b0c2",
      "execution_count": null,
      "outputs": []
    },
    {
      "cell_type": "code",
      "metadata": {},
      "source": [
        "#| eval: false\n",
        "#| code-fold: true\n",
        "flood_res = flood_dc.save_result(format = \"NetCDF\")\n",
        "flood_job = flood_res.create_job(title = \"flood_greece_flood_2018_as_NetCDF_py\")\n",
        "flood_job.start_job()"
      ],
      "id": "8b90d23c",
      "execution_count": null,
      "outputs": []
    },
    {
      "cell_type": "code",
      "metadata": {},
      "source": [
        "#| eval: false\n",
        "#| code-fold: true\n",
        "flood_job.download_result(\"data/thessaly_floodmap_plia_distr_out_den.nc\")"
      ],
      "id": "b2df579f",
      "execution_count": null,
      "outputs": []
    },
    {
      "cell_type": "code",
      "metadata": {
        "results": "hide"
      },
      "source": [
        "#| fig-cap: openEO floodmap - masking high uncertainty classifications + extreme outliers + conflicting distributions + exceeding incidence angles\n",
        "#| echo: false\n",
        "view_flood_map(xr.open_dataset(\"data/thessaly_floodmap_plia_distr_out_den.nc\").dec)"
      ],
      "id": "5fd50cb3",
      "execution_count": null,
      "outputs": []
    }
  ],
  "metadata": {
    "kernelspec": {
      "name": "python3",
      "language": "python",
      "display_name": "Python 3 (ipykernel)"
    }
  },
  "nbformat": 4,
  "nbformat_minor": 5
}